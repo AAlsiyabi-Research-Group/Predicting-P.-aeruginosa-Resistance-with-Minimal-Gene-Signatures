{
 "cells": [
  {
   "cell_type": "code",
   "execution_count": 1,
   "id": "fe88bcc7-f88c-44c6-b1cb-89cde9020d89",
   "metadata": {},
   "outputs": [],
   "source": [
    "#Step 1\n",
    "!pip install Cython==0.29.36\n",
    "!pip uninstall scipy -y\n",
    "!pip install scipy==1.9\n",
    "!pip uninstall pyparsing -y\n",
    "!pip install pyparsing==2.4\n",
    "!pip uninstall scikit_learn -y"
   ]
  },
  {
   "cell_type": "code",
   "execution_count": null,
   "id": "84d83a55-f45e-427f-9d47-5ddbb1381ed4",
   "metadata": {},
   "outputs": [],
   "source": [
    "#Step 2\n",
    "!pip install fastapi\n",
    "!pip install kaleido\n",
    "!pip install python-multipart\n",
    "!pip install uvicorn"
   ]
  },
  {
   "cell_type": "code",
   "execution_count": null,
   "id": "1afc6e1f-b70a-4fa0-8f46-0678c33f39fe",
   "metadata": {},
   "outputs": [],
   "source": [
    "#Step 3\n",
    "!pip uninstall imbalanced-learn -y\n",
    "!pip uninstall mlxtend -y\n",
    "!pip uninstall yellowbrick -y"
   ]
  },
  {
   "cell_type": "code",
   "execution_count": null,
   "id": "c7342299-3754-44a3-b931-a5b2ae07147f",
   "metadata": {},
   "outputs": [],
   "source": [
    "#Step 4\n",
    "!pip install scikit-learn==0.24.2 --no-build-isolation"
   ]
  },
  {
   "cell_type": "code",
   "execution_count": null,
   "id": "07737ce1-3ec9-40c3-91b6-168d2d8c2be3",
   "metadata": {},
   "outputs": [],
   "source": [
    "#Step 5\n",
    "!pip install auto-sklearn"
   ]
  },
  {
   "cell_type": "code",
   "execution_count": null,
   "id": "f887e78c-dcc8-4086-bbcb-c1ef514586b6",
   "metadata": {},
   "outputs": [],
   "source": [
    "#Step 6\n",
    "!pip install scipy"
   ]
  },
  {
   "cell_type": "code",
   "execution_count": null,
   "id": "60568bf7-42cc-4756-997c-10424fd60d0c",
   "metadata": {},
   "outputs": [],
   "source": [
    "#Step 7\n",
    "!pip install --upgrade --force-reinstall Cython"
   ]
  },
  {
   "cell_type": "code",
   "execution_count": null,
   "id": "a017b220-6184-4b7f-94d1-5d3bf073b11d",
   "metadata": {},
   "outputs": [],
   "source": [
    "#Step 8\n",
    "!pip uninstall scipy -y\n",
    "!pip install scipy==1.9"
   ]
  },
  {
   "cell_type": "code",
   "execution_count": null,
   "id": "d7deda3c-7015-4877-81da-690789aaeb3e",
   "metadata": {},
   "outputs": [],
   "source": [
    "#Step 9\n",
    "!pip install auto-sklearn"
   ]
  },
  {
   "cell_type": "code",
   "execution_count": null,
   "id": "bc6fc1b8-3550-4cfb-92e0-63d74f86670e",
   "metadata": {},
   "outputs": [],
   "source": [
    "#Step 10\n",
    "!pip uninstall pyparsing -y\n",
    "!pip install pyparsing==2.4"
   ]
  },
  {
   "cell_type": "code",
   "execution_count": null,
   "id": "e9a521b2-cb7c-462f-ae61-e4365aa669cf",
   "metadata": {},
   "outputs": [],
   "source": [
    "#Step 11\n",
    "!pip install auto-sklearn"
   ]
  },
  {
   "cell_type": "code",
   "execution_count": null,
   "id": "b365493e-7382-4b78-a252-2f644c40218d",
   "metadata": {},
   "outputs": [],
   "source": [
    "#Step 12: import the autosklearn and now you are ready to run your code\n",
    "import autosklearn"
   ]
  }
 ],
 "metadata": {
  "kernelspec": {
   "display_name": "Python 3 (ipykernel)",
   "language": "python",
   "name": "python3"
  },
  "language_info": {
   "codemirror_mode": {
    "name": "ipython",
    "version": 3
   },
   "file_extension": ".py",
   "mimetype": "text/x-python",
   "name": "python",
   "nbconvert_exporter": "python",
   "pygments_lexer": "ipython3",
   "version": "3.10.14"
  }
 },
 "nbformat": 4,
 "nbformat_minor": 5
}
